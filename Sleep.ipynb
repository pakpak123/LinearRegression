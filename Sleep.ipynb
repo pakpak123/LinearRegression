{
  "nbformat": 4,
  "nbformat_minor": 0,
  "metadata": {
    "colab": {
      "provenance": [],
      "include_colab_link": true
    },
    "kernelspec": {
      "display_name": "Python 3",
      "name": "python3"
    },
    "language_info": {
      "name": "python"
    }
  },
  "cells": [
    {
      "cell_type": "markdown",
      "metadata": {
        "id": "view-in-github",
        "colab_type": "text"
      },
      "source": [
        "<a href=\"https://colab.research.google.com/github/pakpak123/LinearRegression/blob/main/Sleep.ipynb\" target=\"_parent\"><img src=\"https://colab.research.google.com/assets/colab-badge.svg\" alt=\"Open In Colab\"/></a>"
      ]
    },
    {
      "cell_type": "code",
      "metadata": {
        "id": "8DXovp9JQViH",
        "colab": {
          "base_uri": "https://localhost:8080/"
        },
        "outputId": "b6e7c85c-f819-4760-c2af-3eb5775f34b6"
      },
      "source": [
        "#import lib\n",
        "import numpy as np\n",
        "import pandas as pd \n",
        "from sklearn.cluster import KMeans\n",
        "import matplotlib.pyplot as plt\n",
        "import seaborn as sns\n",
        "from mpl_toolkits.mplot3d import Axes3D\n",
        "import plotly.graph_objs as go\n",
        "from plotly import tools\n",
        "from plotly.subplots import make_subplots\n",
        "import plotly.offline as py\n",
        "import statsmodels.api as sm\n",
        "import warnings\n",
        "from sklearn.decomposition import PCA\n",
        "from sklearn.preprocessing import StandardScaler\n",
        "from itertools import combinations\n",
        "import math \n",
        "warnings.filterwarnings('ignore')\n",
        "sns.set()\n",
        "import xlrd \n",
        "from openpyxl import load_workbook"
      ],
      "execution_count": null,
      "outputs": [
        {
          "output_type": "stream",
          "name": "stderr",
          "text": [
            "/usr/local/lib/python3.7/dist-packages/statsmodels/tools/_testing.py:19: FutureWarning:\n",
            "\n",
            "pandas.util.testing is deprecated. Use the functions in the public API at pandas.testing instead.\n",
            "\n"
          ]
        }
      ]
    },
    {
      "cell_type": "code",
      "metadata": {
        "id": "069jBo6Yjyga"
      },
      "source": [
        "wb = xlrd.open_workbook(\"/content/testnewtimesclae_1 (1).xlsx\")\n",
        "sheet1 = wb.sheet_by_index(0) \n"
      ],
      "execution_count": null,
      "outputs": []
    },
    {
      "cell_type": "code",
      "metadata": {
        "colab": {
          "base_uri": "https://localhost:8080/"
        },
        "id": "9n7IDzRSp-uY",
        "outputId": "26849e43-9e15-462d-90fd-29c3f00b1af8"
      },
      "source": [
        "sheet1.cell_value (150,1)"
      ],
      "execution_count": null,
      "outputs": [
        {
          "output_type": "execute_result",
          "data": {
            "text/plain": [
              "1.0"
            ]
          },
          "metadata": {},
          "execution_count": 3
        }
      ]
    },
    {
      "cell_type": "code",
      "metadata": {
        "id": "X1q7oo9MsjM_",
        "colab": {
          "base_uri": "https://localhost:8080/"
        },
        "outputId": "39918246-a07f-4756-ba5c-dafd2582d6a4"
      },
      "source": [
        "\n",
        "wb2 =load_workbook(\"/content/testnewtimesclae_1 (1).xlsx\")\n",
        "sheets = wb2.sheetnames \n",
        "Sheet1 = wb2[sheets[0]]\n",
        "Sheet1.cell(row = 152 , column = 1).value = input(\"your amoumt time of sleep in hours :\") \n",
        "# จำนวนชั่วโมงนอน\n"
      ],
      "execution_count": null,
      "outputs": [
        {
          "name": "stdout",
          "output_type": "stream",
          "text": [
            "your amoumt time of sleep in hours :8\n"
          ]
        }
      ]
    },
    {
      "cell_type": "code",
      "metadata": {
        "id": "ESGsRpfmxK4K",
        "colab": {
          "base_uri": "https://localhost:8080/"
        },
        "outputId": "e1f21b09-f20a-4a4e-ca6c-fb3c128f6de6"
      },
      "source": [
        "print(\"06.00 = 0 , 05.00 = 1 , 04.00 = 2, 03.00 =3 ,02.00 = 4 ...\")\n",
        "Sheet1.cell(row = 152 , column = 2).value = input(\"your sleep time :\") \n",
        "#เวลานอน"
      ],
      "execution_count": null,
      "outputs": [
        {
          "name": "stdout",
          "output_type": "stream",
          "text": [
            "06.00 = 0 , 05.00 = 1 , 04.00 = 2, 03.00 =3 ,02.00 = 4 ...\n",
            "your sleep time :4\n"
          ]
        }
      ]
    },
    {
      "cell_type": "code",
      "metadata": {
        "id": "PhzdGd8HxQsV",
        "colab": {
          "base_uri": "https://localhost:8080/"
        },
        "outputId": "30df3916-2c56-490e-e8f1-65bbab100107"
      },
      "source": [
        "Sheet1.cell(row = 152 , column = 3).value = input(\"your nap time in hours :\") \n",
        "#เวลานอนกลางวัน"
      ],
      "execution_count": null,
      "outputs": [
        {
          "name": "stdout",
          "output_type": "stream",
          "text": [
            "your nap time in hours :0.5\n"
          ]
        }
      ]
    },
    {
      "cell_type": "code",
      "metadata": {
        "id": "A1sFZKgXxTTl",
        "colab": {
          "base_uri": "https://localhost:8080/"
        },
        "outputId": "56155149-1838-407d-bd15-f78e34c8fe45"
      },
      "source": [
        "\n",
        "print(\" dark = 8 , dimlight = 16 , bright = 24 \")\n",
        "Sheet1.cell(row = 152 , column = 4).value = input(\"your light in bedroom :\") \n",
        "Sheet1.cell(row = 152 , column = 5).value = \"User_input\" \n",
        "wb2.save((\"/content/testnewtimesclae_1.xlsx\"))"
      ],
      "execution_count": null,
      "outputs": [
        {
          "name": "stdout",
          "output_type": "stream",
          "text": [
            " dark = 8 , dimlight = 16 , bright = 24 \n",
            "your light in bedroom :8\n"
          ]
        }
      ]
    },
    {
      "cell_type": "code",
      "metadata": {
        "id": "H6f5cfCNx8Sb"
      },
      "source": [
        "df = pd.read_excel(\"/content/testnewtimesclae_1.xlsx\")"
      ],
      "execution_count": null,
      "outputs": []
    },
    {
      "cell_type": "code",
      "metadata": {
        "id": "n1xs30e5R6f3",
        "colab": {
          "base_uri": "https://localhost:8080/",
          "height": 206
        },
        "outputId": "7a652a88-ae88-43ae-d4b1-14d158476463"
      },
      "source": [
        "df.head()"
      ],
      "execution_count": null,
      "outputs": [
        {
          "output_type": "execute_result",
          "data": {
            "text/html": [
              "<div>\n",
              "<style scoped>\n",
              "    .dataframe tbody tr th:only-of-type {\n",
              "        vertical-align: middle;\n",
              "    }\n",
              "\n",
              "    .dataframe tbody tr th {\n",
              "        vertical-align: top;\n",
              "    }\n",
              "\n",
              "    .dataframe thead th {\n",
              "        text-align: right;\n",
              "    }\n",
              "</style>\n",
              "<table border=\"1\" class=\"dataframe\">\n",
              "  <thead>\n",
              "    <tr style=\"text-align: right;\">\n",
              "      <th></th>\n",
              "      <th>amount of sleeptime</th>\n",
              "      <th>sleeptime</th>\n",
              "      <th>nap-time</th>\n",
              "      <th>light</th>\n",
              "      <th>score</th>\n",
              "    </tr>\n",
              "  </thead>\n",
              "  <tbody>\n",
              "    <tr>\n",
              "      <th>0</th>\n",
              "      <td>4</td>\n",
              "      <td>2.0</td>\n",
              "      <td>2.00</td>\n",
              "      <td>24</td>\n",
              "      <td>less</td>\n",
              "    </tr>\n",
              "    <tr>\n",
              "      <th>1</th>\n",
              "      <td>9</td>\n",
              "      <td>6.0</td>\n",
              "      <td>0.00</td>\n",
              "      <td>8</td>\n",
              "      <td>moderate</td>\n",
              "    </tr>\n",
              "    <tr>\n",
              "      <th>2</th>\n",
              "      <td>7</td>\n",
              "      <td>7.0</td>\n",
              "      <td>0.25</td>\n",
              "      <td>8</td>\n",
              "      <td>moderate</td>\n",
              "    </tr>\n",
              "    <tr>\n",
              "      <th>3</th>\n",
              "      <td>4</td>\n",
              "      <td>3.0</td>\n",
              "      <td>2.00</td>\n",
              "      <td>8</td>\n",
              "      <td>moderate</td>\n",
              "    </tr>\n",
              "    <tr>\n",
              "      <th>4</th>\n",
              "      <td>4</td>\n",
              "      <td>3.0</td>\n",
              "      <td>1.00</td>\n",
              "      <td>16</td>\n",
              "      <td>not_fresh_at_all</td>\n",
              "    </tr>\n",
              "  </tbody>\n",
              "</table>\n",
              "</div>"
            ],
            "text/plain": [
              "   amount of sleeptime   sleeptime  nap-time  light             score\n",
              "0                     4        2.0      2.00     24              less\n",
              "1                     9        6.0      0.00      8          moderate\n",
              "2                     7        7.0      0.25      8          moderate\n",
              "3                     4        3.0      2.00      8          moderate\n",
              "4                     4        3.0      1.00     16  not_fresh_at_all"
            ]
          },
          "metadata": {},
          "execution_count": 9
        }
      ]
    },
    {
      "cell_type": "code",
      "metadata": {
        "id": "zXZV3EqKSBGi",
        "colab": {
          "base_uri": "https://localhost:8080/",
          "height": 206
        },
        "outputId": "246b8668-6836-481b-ae7f-5667377d9da7"
      },
      "source": [
        "df.tail()"
      ],
      "execution_count": null,
      "outputs": [
        {
          "output_type": "execute_result",
          "data": {
            "text/html": [
              "<div>\n",
              "<style scoped>\n",
              "    .dataframe tbody tr th:only-of-type {\n",
              "        vertical-align: middle;\n",
              "    }\n",
              "\n",
              "    .dataframe tbody tr th {\n",
              "        vertical-align: top;\n",
              "    }\n",
              "\n",
              "    .dataframe thead th {\n",
              "        text-align: right;\n",
              "    }\n",
              "</style>\n",
              "<table border=\"1\" class=\"dataframe\">\n",
              "  <thead>\n",
              "    <tr style=\"text-align: right;\">\n",
              "      <th></th>\n",
              "      <th>amount of sleeptime</th>\n",
              "      <th>sleeptime</th>\n",
              "      <th>nap-time</th>\n",
              "      <th>light</th>\n",
              "      <th>score</th>\n",
              "    </tr>\n",
              "  </thead>\n",
              "  <tbody>\n",
              "    <tr>\n",
              "      <th>146</th>\n",
              "      <td>7</td>\n",
              "      <td>6.0</td>\n",
              "      <td>0.0</td>\n",
              "      <td>8</td>\n",
              "      <td>moderate</td>\n",
              "    </tr>\n",
              "    <tr>\n",
              "      <th>147</th>\n",
              "      <td>4</td>\n",
              "      <td>5.0</td>\n",
              "      <td>0.0</td>\n",
              "      <td>8</td>\n",
              "      <td>minimal</td>\n",
              "    </tr>\n",
              "    <tr>\n",
              "      <th>148</th>\n",
              "      <td>7</td>\n",
              "      <td>5.0</td>\n",
              "      <td>1.0</td>\n",
              "      <td>8</td>\n",
              "      <td>less</td>\n",
              "    </tr>\n",
              "    <tr>\n",
              "      <th>149</th>\n",
              "      <td>7</td>\n",
              "      <td>1.0</td>\n",
              "      <td>0.0</td>\n",
              "      <td>8</td>\n",
              "      <td>moderate</td>\n",
              "    </tr>\n",
              "    <tr>\n",
              "      <th>150</th>\n",
              "      <td>8</td>\n",
              "      <td>4.0</td>\n",
              "      <td>0.5</td>\n",
              "      <td>8</td>\n",
              "      <td>User_input</td>\n",
              "    </tr>\n",
              "  </tbody>\n",
              "</table>\n",
              "</div>"
            ],
            "text/plain": [
              "     amount of sleeptime   sleeptime  nap-time  light       score\n",
              "146                     7        6.0       0.0      8    moderate\n",
              "147                     4        5.0       0.0      8     minimal\n",
              "148                     7        5.0       1.0      8        less\n",
              "149                     7        1.0       0.0      8    moderate\n",
              "150                     8        4.0       0.5      8  User_input"
            ]
          },
          "metadata": {},
          "execution_count": 10
        }
      ]
    },
    {
      "cell_type": "code",
      "metadata": {
        "id": "XFL_OSFiSEFV"
      },
      "source": [
        "from sklearn.decomposition import PCA\n",
        "from sklearn.preprocessing import StandardScaler"
      ],
      "execution_count": null,
      "outputs": []
    },
    {
      "cell_type": "code",
      "metadata": {
        "id": "uBOzJ0kmSQvj"
      },
      "source": [
        "cols=['amount of sleeptime ', 'sleeptime', 'nap-time', 'light']"
      ],
      "execution_count": null,
      "outputs": []
    },
    {
      "cell_type": "code",
      "metadata": {
        "id": "1x-AgAqNSQ0D"
      },
      "source": [
        "X=df[cols]\n",
        "scaler = StandardScaler()\n",
        "X_t=scaler.fit_transform(X)"
      ],
      "execution_count": null,
      "outputs": []
    },
    {
      "cell_type": "code",
      "metadata": {
        "id": "2CZhnKfxSQ2F"
      },
      "source": [
        "dz=pd.DataFrame(X_t.round(4), columns=[f'z_{c}' for c in cols])\n"
      ],
      "execution_count": null,
      "outputs": []
    },
    {
      "cell_type": "code",
      "metadata": {
        "id": "cHu1SVEISQ4B",
        "colab": {
          "base_uri": "https://localhost:8080/",
          "height": 206
        },
        "outputId": "da7d956a-66f0-4377-da4b-cf1e44f77375"
      },
      "source": [
        "dz.head()"
      ],
      "execution_count": null,
      "outputs": [
        {
          "output_type": "execute_result",
          "data": {
            "text/html": [
              "<div>\n",
              "<style scoped>\n",
              "    .dataframe tbody tr th:only-of-type {\n",
              "        vertical-align: middle;\n",
              "    }\n",
              "\n",
              "    .dataframe tbody tr th {\n",
              "        vertical-align: top;\n",
              "    }\n",
              "\n",
              "    .dataframe thead th {\n",
              "        text-align: right;\n",
              "    }\n",
              "</style>\n",
              "<table border=\"1\" class=\"dataframe\">\n",
              "  <thead>\n",
              "    <tr style=\"text-align: right;\">\n",
              "      <th></th>\n",
              "      <th>z_amount of sleeptime</th>\n",
              "      <th>z_sleeptime</th>\n",
              "      <th>z_nap-time</th>\n",
              "      <th>z_light</th>\n",
              "    </tr>\n",
              "  </thead>\n",
              "  <tbody>\n",
              "    <tr>\n",
              "      <th>0</th>\n",
              "      <td>-1.7398</td>\n",
              "      <td>-1.8104</td>\n",
              "      <td>1.5084</td>\n",
              "      <td>3.9325</td>\n",
              "    </tr>\n",
              "    <tr>\n",
              "      <th>1</th>\n",
              "      <td>1.1408</td>\n",
              "      <td>0.5475</td>\n",
              "      <td>-0.8976</td>\n",
              "      <td>-0.4661</td>\n",
              "    </tr>\n",
              "    <tr>\n",
              "      <th>2</th>\n",
              "      <td>-0.0114</td>\n",
              "      <td>1.1370</td>\n",
              "      <td>-0.5969</td>\n",
              "      <td>-0.4661</td>\n",
              "    </tr>\n",
              "    <tr>\n",
              "      <th>3</th>\n",
              "      <td>-1.7398</td>\n",
              "      <td>-1.2209</td>\n",
              "      <td>1.5084</td>\n",
              "      <td>-0.4661</td>\n",
              "    </tr>\n",
              "    <tr>\n",
              "      <th>4</th>\n",
              "      <td>-1.7398</td>\n",
              "      <td>-1.2209</td>\n",
              "      <td>0.3054</td>\n",
              "      <td>1.7332</td>\n",
              "    </tr>\n",
              "  </tbody>\n",
              "</table>\n",
              "</div>"
            ],
            "text/plain": [
              "   z_amount of sleeptime   z_sleeptime  z_nap-time  z_light\n",
              "0                 -1.7398      -1.8104      1.5084   3.9325\n",
              "1                  1.1408       0.5475     -0.8976  -0.4661\n",
              "2                 -0.0114       1.1370     -0.5969  -0.4661\n",
              "3                 -1.7398      -1.2209      1.5084  -0.4661\n",
              "4                 -1.7398      -1.2209      0.3054   1.7332"
            ]
          },
          "metadata": {},
          "execution_count": 16
        }
      ]
    },
    {
      "cell_type": "code",
      "metadata": {
        "id": "WDEoZB3ISQ6W",
        "colab": {
          "base_uri": "https://localhost:8080/",
          "height": 206
        },
        "outputId": "3666d672-b6cc-47c3-e6e3-2abb1d5a05d2"
      },
      "source": [
        "dz.tail()"
      ],
      "execution_count": null,
      "outputs": [
        {
          "output_type": "execute_result",
          "data": {
            "text/html": [
              "<div>\n",
              "<style scoped>\n",
              "    .dataframe tbody tr th:only-of-type {\n",
              "        vertical-align: middle;\n",
              "    }\n",
              "\n",
              "    .dataframe tbody tr th {\n",
              "        vertical-align: top;\n",
              "    }\n",
              "\n",
              "    .dataframe thead th {\n",
              "        text-align: right;\n",
              "    }\n",
              "</style>\n",
              "<table border=\"1\" class=\"dataframe\">\n",
              "  <thead>\n",
              "    <tr style=\"text-align: right;\">\n",
              "      <th></th>\n",
              "      <th>z_amount of sleeptime</th>\n",
              "      <th>z_sleeptime</th>\n",
              "      <th>z_nap-time</th>\n",
              "      <th>z_light</th>\n",
              "    </tr>\n",
              "  </thead>\n",
              "  <tbody>\n",
              "    <tr>\n",
              "      <th>146</th>\n",
              "      <td>-0.0114</td>\n",
              "      <td>0.5475</td>\n",
              "      <td>-0.8976</td>\n",
              "      <td>-0.4661</td>\n",
              "    </tr>\n",
              "    <tr>\n",
              "      <th>147</th>\n",
              "      <td>-1.7398</td>\n",
              "      <td>-0.0420</td>\n",
              "      <td>-0.8976</td>\n",
              "      <td>-0.4661</td>\n",
              "    </tr>\n",
              "    <tr>\n",
              "      <th>148</th>\n",
              "      <td>-0.0114</td>\n",
              "      <td>-0.0420</td>\n",
              "      <td>0.3054</td>\n",
              "      <td>-0.4661</td>\n",
              "    </tr>\n",
              "    <tr>\n",
              "      <th>149</th>\n",
              "      <td>-0.0114</td>\n",
              "      <td>-2.3999</td>\n",
              "      <td>-0.8976</td>\n",
              "      <td>-0.4661</td>\n",
              "    </tr>\n",
              "    <tr>\n",
              "      <th>150</th>\n",
              "      <td>0.5647</td>\n",
              "      <td>-0.6314</td>\n",
              "      <td>-0.2961</td>\n",
              "      <td>-0.4661</td>\n",
              "    </tr>\n",
              "  </tbody>\n",
              "</table>\n",
              "</div>"
            ],
            "text/plain": [
              "     z_amount of sleeptime   z_sleeptime  z_nap-time  z_light\n",
              "146                 -0.0114       0.5475     -0.8976  -0.4661\n",
              "147                 -1.7398      -0.0420     -0.8976  -0.4661\n",
              "148                 -0.0114      -0.0420      0.3054  -0.4661\n",
              "149                 -0.0114      -2.3999     -0.8976  -0.4661\n",
              "150                  0.5647      -0.6314     -0.2961  -0.4661"
            ]
          },
          "metadata": {},
          "execution_count": 17
        }
      ]
    },
    {
      "cell_type": "code",
      "metadata": {
        "id": "7ZX_UfmtSqXd",
        "colab": {
          "base_uri": "https://localhost:8080/",
          "height": 206
        },
        "outputId": "235af8c8-56d4-4f55-d4d3-2abcac396b34"
      },
      "source": [
        "pd.concat([df,dz],axis='columns').head()"
      ],
      "execution_count": null,
      "outputs": [
        {
          "output_type": "execute_result",
          "data": {
            "text/html": [
              "<div>\n",
              "<style scoped>\n",
              "    .dataframe tbody tr th:only-of-type {\n",
              "        vertical-align: middle;\n",
              "    }\n",
              "\n",
              "    .dataframe tbody tr th {\n",
              "        vertical-align: top;\n",
              "    }\n",
              "\n",
              "    .dataframe thead th {\n",
              "        text-align: right;\n",
              "    }\n",
              "</style>\n",
              "<table border=\"1\" class=\"dataframe\">\n",
              "  <thead>\n",
              "    <tr style=\"text-align: right;\">\n",
              "      <th></th>\n",
              "      <th>amount of sleeptime</th>\n",
              "      <th>sleeptime</th>\n",
              "      <th>nap-time</th>\n",
              "      <th>light</th>\n",
              "      <th>score</th>\n",
              "      <th>z_amount of sleeptime</th>\n",
              "      <th>z_sleeptime</th>\n",
              "      <th>z_nap-time</th>\n",
              "      <th>z_light</th>\n",
              "    </tr>\n",
              "  </thead>\n",
              "  <tbody>\n",
              "    <tr>\n",
              "      <th>0</th>\n",
              "      <td>4</td>\n",
              "      <td>2.0</td>\n",
              "      <td>2.00</td>\n",
              "      <td>24</td>\n",
              "      <td>less</td>\n",
              "      <td>-1.7398</td>\n",
              "      <td>-1.8104</td>\n",
              "      <td>1.5084</td>\n",
              "      <td>3.9325</td>\n",
              "    </tr>\n",
              "    <tr>\n",
              "      <th>1</th>\n",
              "      <td>9</td>\n",
              "      <td>6.0</td>\n",
              "      <td>0.00</td>\n",
              "      <td>8</td>\n",
              "      <td>moderate</td>\n",
              "      <td>1.1408</td>\n",
              "      <td>0.5475</td>\n",
              "      <td>-0.8976</td>\n",
              "      <td>-0.4661</td>\n",
              "    </tr>\n",
              "    <tr>\n",
              "      <th>2</th>\n",
              "      <td>7</td>\n",
              "      <td>7.0</td>\n",
              "      <td>0.25</td>\n",
              "      <td>8</td>\n",
              "      <td>moderate</td>\n",
              "      <td>-0.0114</td>\n",
              "      <td>1.1370</td>\n",
              "      <td>-0.5969</td>\n",
              "      <td>-0.4661</td>\n",
              "    </tr>\n",
              "    <tr>\n",
              "      <th>3</th>\n",
              "      <td>4</td>\n",
              "      <td>3.0</td>\n",
              "      <td>2.00</td>\n",
              "      <td>8</td>\n",
              "      <td>moderate</td>\n",
              "      <td>-1.7398</td>\n",
              "      <td>-1.2209</td>\n",
              "      <td>1.5084</td>\n",
              "      <td>-0.4661</td>\n",
              "    </tr>\n",
              "    <tr>\n",
              "      <th>4</th>\n",
              "      <td>4</td>\n",
              "      <td>3.0</td>\n",
              "      <td>1.00</td>\n",
              "      <td>16</td>\n",
              "      <td>not_fresh_at_all</td>\n",
              "      <td>-1.7398</td>\n",
              "      <td>-1.2209</td>\n",
              "      <td>0.3054</td>\n",
              "      <td>1.7332</td>\n",
              "    </tr>\n",
              "  </tbody>\n",
              "</table>\n",
              "</div>"
            ],
            "text/plain": [
              "   amount of sleeptime   sleeptime  nap-time  ...  z_sleeptime z_nap-time  z_light\n",
              "0                     4        2.0      2.00  ...      -1.8104     1.5084   3.9325\n",
              "1                     9        6.0      0.00  ...       0.5475    -0.8976  -0.4661\n",
              "2                     7        7.0      0.25  ...       1.1370    -0.5969  -0.4661\n",
              "3                     4        3.0      2.00  ...      -1.2209     1.5084  -0.4661\n",
              "4                     4        3.0      1.00  ...      -1.2209     0.3054   1.7332\n",
              "\n",
              "[5 rows x 9 columns]"
            ]
          },
          "metadata": {},
          "execution_count": 18
        }
      ]
    },
    {
      "cell_type": "code",
      "metadata": {
        "id": "D0p9ryJsSqZt",
        "colab": {
          "base_uri": "https://localhost:8080/",
          "height": 206
        },
        "outputId": "5abfec3c-3143-4ffc-9e78-54f9ef2e741d"
      },
      "source": [
        "pd.concat([df,dz],axis='columns').tail()"
      ],
      "execution_count": null,
      "outputs": [
        {
          "output_type": "execute_result",
          "data": {
            "text/html": [
              "<div>\n",
              "<style scoped>\n",
              "    .dataframe tbody tr th:only-of-type {\n",
              "        vertical-align: middle;\n",
              "    }\n",
              "\n",
              "    .dataframe tbody tr th {\n",
              "        vertical-align: top;\n",
              "    }\n",
              "\n",
              "    .dataframe thead th {\n",
              "        text-align: right;\n",
              "    }\n",
              "</style>\n",
              "<table border=\"1\" class=\"dataframe\">\n",
              "  <thead>\n",
              "    <tr style=\"text-align: right;\">\n",
              "      <th></th>\n",
              "      <th>amount of sleeptime</th>\n",
              "      <th>sleeptime</th>\n",
              "      <th>nap-time</th>\n",
              "      <th>light</th>\n",
              "      <th>score</th>\n",
              "      <th>z_amount of sleeptime</th>\n",
              "      <th>z_sleeptime</th>\n",
              "      <th>z_nap-time</th>\n",
              "      <th>z_light</th>\n",
              "    </tr>\n",
              "  </thead>\n",
              "  <tbody>\n",
              "    <tr>\n",
              "      <th>146</th>\n",
              "      <td>7</td>\n",
              "      <td>6.0</td>\n",
              "      <td>0.0</td>\n",
              "      <td>8</td>\n",
              "      <td>moderate</td>\n",
              "      <td>-0.0114</td>\n",
              "      <td>0.5475</td>\n",
              "      <td>-0.8976</td>\n",
              "      <td>-0.4661</td>\n",
              "    </tr>\n",
              "    <tr>\n",
              "      <th>147</th>\n",
              "      <td>4</td>\n",
              "      <td>5.0</td>\n",
              "      <td>0.0</td>\n",
              "      <td>8</td>\n",
              "      <td>minimal</td>\n",
              "      <td>-1.7398</td>\n",
              "      <td>-0.0420</td>\n",
              "      <td>-0.8976</td>\n",
              "      <td>-0.4661</td>\n",
              "    </tr>\n",
              "    <tr>\n",
              "      <th>148</th>\n",
              "      <td>7</td>\n",
              "      <td>5.0</td>\n",
              "      <td>1.0</td>\n",
              "      <td>8</td>\n",
              "      <td>less</td>\n",
              "      <td>-0.0114</td>\n",
              "      <td>-0.0420</td>\n",
              "      <td>0.3054</td>\n",
              "      <td>-0.4661</td>\n",
              "    </tr>\n",
              "    <tr>\n",
              "      <th>149</th>\n",
              "      <td>7</td>\n",
              "      <td>1.0</td>\n",
              "      <td>0.0</td>\n",
              "      <td>8</td>\n",
              "      <td>moderate</td>\n",
              "      <td>-0.0114</td>\n",
              "      <td>-2.3999</td>\n",
              "      <td>-0.8976</td>\n",
              "      <td>-0.4661</td>\n",
              "    </tr>\n",
              "    <tr>\n",
              "      <th>150</th>\n",
              "      <td>8</td>\n",
              "      <td>4.0</td>\n",
              "      <td>0.5</td>\n",
              "      <td>8</td>\n",
              "      <td>User_input</td>\n",
              "      <td>0.5647</td>\n",
              "      <td>-0.6314</td>\n",
              "      <td>-0.2961</td>\n",
              "      <td>-0.4661</td>\n",
              "    </tr>\n",
              "  </tbody>\n",
              "</table>\n",
              "</div>"
            ],
            "text/plain": [
              "     amount of sleeptime   sleeptime  ...  z_nap-time  z_light\n",
              "146                     7        6.0  ...     -0.8976  -0.4661\n",
              "147                     4        5.0  ...     -0.8976  -0.4661\n",
              "148                     7        5.0  ...      0.3054  -0.4661\n",
              "149                     7        1.0  ...     -0.8976  -0.4661\n",
              "150                     8        4.0  ...     -0.2961  -0.4661\n",
              "\n",
              "[5 rows x 9 columns]"
            ]
          },
          "metadata": {},
          "execution_count": 19
        }
      ]
    },
    {
      "cell_type": "code",
      "metadata": {
        "id": "c37uVa_KQZQX",
        "colab": {
          "base_uri": "https://localhost:8080/",
          "height": 175
        },
        "outputId": "bc959d82-fba8-48d7-ef01-63d146e89b0b"
      },
      "source": [
        "dz.cov()"
      ],
      "execution_count": null,
      "outputs": [
        {
          "output_type": "execute_result",
          "data": {
            "text/html": [
              "<div>\n",
              "<style scoped>\n",
              "    .dataframe tbody tr th:only-of-type {\n",
              "        vertical-align: middle;\n",
              "    }\n",
              "\n",
              "    .dataframe tbody tr th {\n",
              "        vertical-align: top;\n",
              "    }\n",
              "\n",
              "    .dataframe thead th {\n",
              "        text-align: right;\n",
              "    }\n",
              "</style>\n",
              "<table border=\"1\" class=\"dataframe\">\n",
              "  <thead>\n",
              "    <tr style=\"text-align: right;\">\n",
              "      <th></th>\n",
              "      <th>z_amount of sleeptime</th>\n",
              "      <th>z_sleeptime</th>\n",
              "      <th>z_nap-time</th>\n",
              "      <th>z_light</th>\n",
              "    </tr>\n",
              "  </thead>\n",
              "  <tbody>\n",
              "    <tr>\n",
              "      <th>z_amount of sleeptime</th>\n",
              "      <td>1.006660</td>\n",
              "      <td>0.317618</td>\n",
              "      <td>-0.098364</td>\n",
              "      <td>-0.241887</td>\n",
              "    </tr>\n",
              "    <tr>\n",
              "      <th>z_sleeptime</th>\n",
              "      <td>0.317618</td>\n",
              "      <td>1.006654</td>\n",
              "      <td>-0.187301</td>\n",
              "      <td>-0.052104</td>\n",
              "    </tr>\n",
              "    <tr>\n",
              "      <th>z_nap-time</th>\n",
              "      <td>-0.098364</td>\n",
              "      <td>-0.187301</td>\n",
              "      <td>1.006625</td>\n",
              "      <td>0.036397</td>\n",
              "    </tr>\n",
              "    <tr>\n",
              "      <th>z_light</th>\n",
              "      <td>-0.241887</td>\n",
              "      <td>-0.052104</td>\n",
              "      <td>0.036397</td>\n",
              "      <td>1.006677</td>\n",
              "    </tr>\n",
              "  </tbody>\n",
              "</table>\n",
              "</div>"
            ],
            "text/plain": [
              "                        z_amount of sleeptime   ...   z_light\n",
              "z_amount of sleeptime                 1.006660  ... -0.241887\n",
              "z_sleeptime                           0.317618  ... -0.052104\n",
              "z_nap-time                           -0.098364  ...  0.036397\n",
              "z_light                              -0.241887  ...  1.006677\n",
              "\n",
              "[4 rows x 4 columns]"
            ]
          },
          "metadata": {},
          "execution_count": 20
        }
      ]
    },
    {
      "cell_type": "code",
      "metadata": {
        "id": "nlybNGUqSqb8",
        "colab": {
          "base_uri": "https://localhost:8080/"
        },
        "outputId": "3eacf825-112d-4f71-c161-525bf672b757"
      },
      "source": [
        "pca = PCA(n_components=3)\n",
        "pca.fit_transform(X_t)[:5] "
      ],
      "execution_count": null,
      "outputs": [
        {
          "output_type": "execute_result",
          "data": {
            "text/plain": [
              "array([[ 4.19625109e+00,  1.60301315e+00,  1.62226406e+00],\n",
              "       [-1.53294891e+00,  1.45784973e-01, -2.68876179e-01],\n",
              "       [-1.04285369e+00,  4.09988168e-01, -1.20100425e-01],\n",
              "       [ 2.15375761e+00, -1.24404955e+00, -2.41243268e-01],\n",
              "       [ 2.56672265e+00,  1.00590160e+00, -3.16859808e-03]])"
            ]
          },
          "metadata": {},
          "execution_count": 21
        }
      ]
    },
    {
      "cell_type": "code",
      "metadata": {
        "id": "SeKEfC09SqeV",
        "colab": {
          "base_uri": "https://localhost:8080/"
        },
        "outputId": "2fe3adfd-1c00-4d6b-993b-b18e746d327a"
      },
      "source": [
        "print(f\"sum ratio = {np.sum(pca.explained_variance_ratio_)}\")\n",
        "#data - accuracy\n"
      ],
      "execution_count": null,
      "outputs": [
        {
          "output_type": "stream",
          "name": "stdout",
          "text": [
            "sum ratio = 0.8449876791214126\n"
          ]
        }
      ]
    },
    {
      "cell_type": "code",
      "metadata": {
        "id": "GFllrrDM_xNQ",
        "colab": {
          "base_uri": "https://localhost:8080/"
        },
        "outputId": "0f4d6b72-467b-42e5-a80f-7c6db82f5a7a"
      },
      "source": [
        "pca.explained_variance_"
      ],
      "execution_count": null,
      "outputs": [
        {
          "output_type": "execute_result",
          "data": {
            "text/plain": [
              "array([1.50682013, 1.02848467, 0.86717892])"
            ]
          },
          "metadata": {},
          "execution_count": 23
        }
      ]
    },
    {
      "cell_type": "code",
      "metadata": {
        "id": "n50SXvbdSqg1",
        "colab": {
          "base_uri": "https://localhost:8080/"
        },
        "outputId": "682b1f72-af6d-43c8-e651-dd1e59baf353"
      },
      "source": [
        "pca.components_ #as Eigenvector"
      ],
      "execution_count": null,
      "outputs": [
        {
          "output_type": "execute_result",
          "data": {
            "text/plain": [
              "array([[-0.62306182, -0.57284127,  0.3652754 ,  0.38758318],\n",
              "       [-0.22316814,  0.32219048, -0.60800573,  0.6904479 ],\n",
              "       [ 0.28475038,  0.45758571,  0.68871015,  0.48498543]])"
            ]
          },
          "metadata": {},
          "execution_count": 24
        }
      ]
    },
    {
      "cell_type": "code",
      "metadata": {
        "id": "J6YyNNVmSqjN",
        "colab": {
          "base_uri": "https://localhost:8080/",
          "height": 206
        },
        "outputId": "bbbe2048-7d6f-49bb-a32d-b1ebecbdfe17"
      },
      "source": [
        "dd = pd.concat([pd.DataFrame(pca.transform(X_t),columns=[f\"PC{n}\" for n in range(1,pca.n_components_+1)]),df[[\"score\"]]] ,axis = 'columns')\n",
        "dd.head()"
      ],
      "execution_count": null,
      "outputs": [
        {
          "output_type": "execute_result",
          "data": {
            "text/html": [
              "<div>\n",
              "<style scoped>\n",
              "    .dataframe tbody tr th:only-of-type {\n",
              "        vertical-align: middle;\n",
              "    }\n",
              "\n",
              "    .dataframe tbody tr th {\n",
              "        vertical-align: top;\n",
              "    }\n",
              "\n",
              "    .dataframe thead th {\n",
              "        text-align: right;\n",
              "    }\n",
              "</style>\n",
              "<table border=\"1\" class=\"dataframe\">\n",
              "  <thead>\n",
              "    <tr style=\"text-align: right;\">\n",
              "      <th></th>\n",
              "      <th>PC1</th>\n",
              "      <th>PC2</th>\n",
              "      <th>PC3</th>\n",
              "      <th>score</th>\n",
              "    </tr>\n",
              "  </thead>\n",
              "  <tbody>\n",
              "    <tr>\n",
              "      <th>0</th>\n",
              "      <td>4.196251</td>\n",
              "      <td>1.603013</td>\n",
              "      <td>1.622264</td>\n",
              "      <td>less</td>\n",
              "    </tr>\n",
              "    <tr>\n",
              "      <th>1</th>\n",
              "      <td>-1.532949</td>\n",
              "      <td>0.145785</td>\n",
              "      <td>-0.268876</td>\n",
              "      <td>moderate</td>\n",
              "    </tr>\n",
              "    <tr>\n",
              "      <th>2</th>\n",
              "      <td>-1.042854</td>\n",
              "      <td>0.409988</td>\n",
              "      <td>-0.120100</td>\n",
              "      <td>moderate</td>\n",
              "    </tr>\n",
              "    <tr>\n",
              "      <th>3</th>\n",
              "      <td>2.153758</td>\n",
              "      <td>-1.244050</td>\n",
              "      <td>-0.241243</td>\n",
              "      <td>moderate</td>\n",
              "    </tr>\n",
              "    <tr>\n",
              "      <th>4</th>\n",
              "      <td>2.566723</td>\n",
              "      <td>1.005902</td>\n",
              "      <td>-0.003169</td>\n",
              "      <td>not_fresh_at_all</td>\n",
              "    </tr>\n",
              "  </tbody>\n",
              "</table>\n",
              "</div>"
            ],
            "text/plain": [
              "        PC1       PC2       PC3             score\n",
              "0  4.196251  1.603013  1.622264              less\n",
              "1 -1.532949  0.145785 -0.268876          moderate\n",
              "2 -1.042854  0.409988 -0.120100          moderate\n",
              "3  2.153758 -1.244050 -0.241243          moderate\n",
              "4  2.566723  1.005902 -0.003169  not_fresh_at_all"
            ]
          },
          "metadata": {},
          "execution_count": 25
        }
      ]
    },
    {
      "cell_type": "code",
      "metadata": {
        "id": "TFdGsYqHSqlZ"
      },
      "source": [
        "X_pca = pca.fit_transform(X_t)"
      ],
      "execution_count": null,
      "outputs": []
    },
    {
      "cell_type": "code",
      "metadata": {
        "id": "n-PT9U9Ao4_m",
        "colab": {
          "base_uri": "https://localhost:8080/"
        },
        "outputId": "89c05967-f77d-4dc7-eb91-76fd2e333f1a"
      },
      "source": [
        "np.dot(X_t,pca.components_.T)[:5]"
      ],
      "execution_count": null,
      "outputs": [
        {
          "output_type": "execute_result",
          "data": {
            "text/plain": [
              "array([[ 4.19625109e+00,  1.60301315e+00,  1.62226406e+00],\n",
              "       [-1.53294891e+00,  1.45784973e-01, -2.68876179e-01],\n",
              "       [-1.04285369e+00,  4.09988168e-01, -1.20100425e-01],\n",
              "       [ 2.15375761e+00, -1.24404955e+00, -2.41243268e-01],\n",
              "       [ 2.56672265e+00,  1.00590160e+00, -3.16859808e-03]])"
            ]
          },
          "metadata": {},
          "execution_count": 27
        }
      ]
    },
    {
      "cell_type": "code",
      "metadata": {
        "id": "WN0aa9ArSqny",
        "colab": {
          "base_uri": "https://localhost:8080/",
          "height": 592
        },
        "outputId": "264adbd2-9485-45c1-8b3a-5a110f71b2a6"
      },
      "source": [
        "fig = plt.figure(figsize=(10,10))\n",
        "ax = fig.add_subplot(111, projection='3d')\n",
        "my_cmap = plt.get_cmap('hsv')\n",
        "ax.scatter(X_pca[:,0] , X_pca[:,1], X_pca[:,2] ,alpha = .5 , cmap = \"Set1\" , c = df.score.astype(\"category\").cat.codes)\n",
        "\n",
        "ax.set_xlabel('PC0 Label')\n",
        "ax.set_ylabel('PC1 Label')\n",
        "ax.set_zlabel('PC2 Label')"
      ],
      "execution_count": null,
      "outputs": [
        {
          "output_type": "execute_result",
          "data": {
            "text/plain": [
              "Text(0.5, 0, 'PC2 Label')"
            ]
          },
          "metadata": {},
          "execution_count": 28
        },
        {
          "output_type": "display_data",
          "data": {
            "image/png": "[encoded data removed]",
            "text/plain": [
              "<Figure size 720x720 with 1 Axes>"
            ]
          },
          "metadata": {
            "needs_background": "light"
          }
        }
      ]
    },
    {
      "cell_type": "code",
      "metadata": {
        "id": "Il5LS2arXP9O"
      },
      "source": [
        "dd.to_csv(\"pca_result.csv\",index = False)"
      ],
      "execution_count": null,
      "outputs": []
    },
    {
      "cell_type": "markdown",
      "metadata": {
        "id": "sRAKkXHFUr0y"
      },
      "source": [
        "K-means\n",
        "ทำแกน 3 มิติ\n",
        "กำหนดให้ชุดของข้อมูลมี 6 ตัว ไม่ใช้ Centroid ในการคิดแล้วเพราะไม่น่าเชื่อถือ + ลู่ผิดปกติ"
      ]
    },
    {
      "cell_type": "code",
      "metadata": {
        "id": "0P0x-JwMV29p",
        "colab": {
          "base_uri": "https://localhost:8080/",
          "height": 424
        },
        "outputId": "cf0ad980-5658-4ab0-ff05-ada2f2e93a34"
      },
      "source": [
        "data = pd.read_csv('pca_result.csv')\n",
        "data\n",
        "\n",
        "x = data.iloc[:,0:3] # 1t for rows and second for columns\n",
        "x"
      ],
      "execution_count": null,
      "outputs": [
        {
          "output_type": "execute_result",
          "data": {
            "text/html": [
              "<div>\n",
              "<style scoped>\n",
              "    .dataframe tbody tr th:only-of-type {\n",
              "        vertical-align: middle;\n",
              "    }\n",
              "\n",
              "    .dataframe tbody tr th {\n",
              "        vertical-align: top;\n",
              "    }\n",
              "\n",
              "    .dataframe thead th {\n",
              "        text-align: right;\n",
              "    }\n",
              "</style>\n",
              "<table border=\"1\" class=\"dataframe\">\n",
              "  <thead>\n",
              "    <tr style=\"text-align: right;\">\n",
              "      <th></th>\n",
              "      <th>PC1</th>\n",
              "      <th>PC2</th>\n",
              "      <th>PC3</th>\n",
              "    </tr>\n",
              "  </thead>\n",
              "  <tbody>\n",
              "    <tr>\n",
              "      <th>0</th>\n",
              "      <td>4.196251</td>\n",
              "      <td>1.603013</td>\n",
              "      <td>1.622264</td>\n",
              "    </tr>\n",
              "    <tr>\n",
              "      <th>1</th>\n",
              "      <td>-1.532949</td>\n",
              "      <td>0.145785</td>\n",
              "      <td>-0.268876</td>\n",
              "    </tr>\n",
              "    <tr>\n",
              "      <th>2</th>\n",
              "      <td>-1.042854</td>\n",
              "      <td>0.409988</td>\n",
              "      <td>-0.120100</td>\n",
              "    </tr>\n",
              "    <tr>\n",
              "      <th>3</th>\n",
              "      <td>2.153758</td>\n",
              "      <td>-1.244050</td>\n",
              "      <td>-0.241243</td>\n",
              "    </tr>\n",
              "    <tr>\n",
              "      <th>4</th>\n",
              "      <td>2.566723</td>\n",
              "      <td>1.005902</td>\n",
              "      <td>-0.003169</td>\n",
              "    </tr>\n",
              "    <tr>\n",
              "      <th>...</th>\n",
              "      <td>...</td>\n",
              "      <td>...</td>\n",
              "      <td>...</td>\n",
              "    </tr>\n",
              "    <tr>\n",
              "      <th>146</th>\n",
              "      <td>-0.815035</td>\n",
              "      <td>0.402927</td>\n",
              "      <td>-0.596976</td>\n",
              "    </tr>\n",
              "    <tr>\n",
              "      <th>147</th>\n",
              "      <td>0.599515</td>\n",
              "      <td>0.598715</td>\n",
              "      <td>-1.358863</td>\n",
              "    </tr>\n",
              "    <tr>\n",
              "      <th>148</th>\n",
              "      <td>-0.037914</td>\n",
              "      <td>-0.518455</td>\n",
              "      <td>-0.038166</td>\n",
              "    </tr>\n",
              "    <tr>\n",
              "      <th>149</th>\n",
              "      <td>0.873361</td>\n",
              "      <td>-0.546699</td>\n",
              "      <td>-1.945667</td>\n",
              "    </tr>\n",
              "    <tr>\n",
              "      <th>150</th>\n",
              "      <td>-0.278913</td>\n",
              "      <td>-0.471223</td>\n",
              "      <td>-0.558128</td>\n",
              "    </tr>\n",
              "  </tbody>\n",
              "</table>\n",
              "<p>151 rows × 3 columns</p>\n",
              "</div>"
            ],
            "text/plain": [
              "          PC1       PC2       PC3\n",
              "0    4.196251  1.603013  1.622264\n",
              "1   -1.532949  0.145785 -0.268876\n",
              "2   -1.042854  0.409988 -0.120100\n",
              "3    2.153758 -1.244050 -0.241243\n",
              "4    2.566723  1.005902 -0.003169\n",
              "..        ...       ...       ...\n",
              "146 -0.815035  0.402927 -0.596976\n",
              "147  0.599515  0.598715 -1.358863\n",
              "148 -0.037914 -0.518455 -0.038166\n",
              "149  0.873361 -0.546699 -1.945667\n",
              "150 -0.278913 -0.471223 -0.558128\n",
              "\n",
              "[151 rows x 3 columns]"
            ]
          },
          "metadata": {},
          "execution_count": 30
        }
      ]
    },
    {
      "cell_type": "code",
      "metadata": {
        "id": "QJkwkSrzUq45"
      },
      "source": [
        "# since elbow occured at 5, hence the optimal number of clusters for the mall data is 5 \n",
        "model = KMeans(n_clusters = 5, init = \"k-means++\", max_iter =500, n_init = 150, random_state = 0)\n",
        "y_clusters = model.fit_predict(x)\n"
      ],
      "execution_count": null,
      "outputs": []
    },
    {
      "cell_type": "markdown",
      "metadata": {
        "id": "EvvB3aNwYlJP"
      },
      "source": [
        "predict ค่าจากข้อมูลท้้ง 3 แกน ผลลัพธ์ที่ได้เป็นระดับความสดชื่น"
      ]
    },
    {
      "cell_type": "code",
      "metadata": {
        "id": "dmBvwuOASqqM"
      },
      "source": [
        "# input matrix for segmentation\n",
        "x = data[['PC1','PC2','PC3']].values"
      ],
      "execution_count": null,
      "outputs": []
    },
    {
      "cell_type": "code",
      "metadata": {
        "id": "-o4iG57kZKag",
        "colab": {
          "base_uri": "https://localhost:8080/"
        },
        "outputId": "401224c2-82d5-4e22-a440-9a7ef4583486"
      },
      "source": [
        "kmeans = KMeans(6)\n",
        "kmeans.fit(x)"
      ],
      "execution_count": null,
      "outputs": [
        {
          "output_type": "execute_result",
          "data": {
            "text/plain": [
              "KMeans(n_clusters=6)"
            ]
          },
          "metadata": {},
          "execution_count": 33
        }
      ]
    },
    {
      "cell_type": "code",
      "metadata": {
        "id": "bm3ro034Sqsf",
        "colab": {
          "base_uri": "https://localhost:8080/"
        },
        "outputId": "f9f77ea9-9600-4812-b751-ccaaf5074571"
      },
      "source": [
        "identified_clusters = kmeans.fit_predict(x)\n",
        "identified_clusters"
      ],
      "execution_count": null,
      "outputs": [
        {
          "output_type": "execute_result",
          "data": {
            "text/plain": [
              "array([0, 5, 1, 4, 0, 1, 4, 1, 4, 1, 4, 1, 2, 1, 1, 5, 3, 3, 4, 1, 1, 1,\n",
              "       1, 1, 4, 1, 2, 4, 2, 5, 1, 2, 5, 1, 2, 1, 2, 1, 1, 1, 1, 0, 3, 4,\n",
              "       1, 1, 4, 5, 1, 1, 1, 5, 1, 5, 2, 1, 1, 5, 2, 2, 5, 5, 3, 0, 1, 1,\n",
              "       1, 3, 1, 3, 1, 5, 3, 1, 3, 1, 1, 2, 2, 1, 5, 4, 3, 1, 2, 3, 2, 2,\n",
              "       3, 3, 3, 4, 1, 1, 5, 1, 1, 2, 5, 0, 1, 1, 0, 5, 3, 3, 1, 2, 2, 1,\n",
              "       2, 2, 2, 1, 2, 2, 1, 1, 5, 5, 3, 5, 2, 2, 2, 1, 0, 1, 1, 1, 3, 1,\n",
              "       5, 1, 2, 3, 1, 0, 1, 1, 1, 0, 4, 2, 4, 1, 1, 1, 1, 4, 1],\n",
              "      dtype=int32)"
            ]
          },
          "metadata": {},
          "execution_count": 34
        }
      ]
    },
    {
      "cell_type": "code",
      "metadata": {
        "id": "XHHYgDKaSquw",
        "colab": {
          "base_uri": "https://localhost:8080/",
          "height": 448
        },
        "outputId": "11d6c934-3945-4b1d-81e0-63296d7c4d41"
      },
      "source": [
        "# find the optimal number of clusters using elbow method  -- >This is for 3 features = [age,anual income,spending score]\n",
        "WCSS = []\n",
        "for i in range(1,11):\n",
        "    model = KMeans(n_clusters = i,init = 'k-means++')\n",
        "    model.fit(x)\n",
        "    WCSS.append(model.inertia_)\n",
        "fig = plt.figure(figsize = (7,7))\n",
        "plt.plot(range(1,11),WCSS, linewidth=4, markersize=12,marker='o',color = 'red')\n",
        "plt.xticks(np.arange(11))\n",
        "plt.xlabel(\"Number of clusters\")\n",
        "plt.ylabel(\"WCSS\")\n",
        "plt.show()"
      ],
      "execution_count": null,
      "outputs": [
        {
          "output_type": "display_data",
          "data": {
            "image/png": "[encoded data removed]",
            "text/plain": [
              "<Figure size 504x504 with 1 Axes>"
            ]
          },
          "metadata": {
            "needs_background": "light"
          }
        }
      ]
    },
    {
      "cell_type": "code",
      "metadata": {
        "id": "Qn2-cz1cSqxO"
      },
      "source": [
        "# finding the clusters based on input matrix \"x\"\n",
        "model = KMeans(n_clusters = 6, init = \"k-means++\", max_iter = 300, n_init = 10, random_state = 0)\n",
        "y_clusters = model.fit_predict(x)"
      ],
      "execution_count": null,
      "outputs": []
    },
    {
      "cell_type": "code",
      "metadata": {
        "id": "6fToqUuoSqzd",
        "colab": {
          "base_uri": "https://localhost:8080/",
          "height": 285
        },
        "outputId": "396c4263-244d-4bf6-feba-fba1841aec97"
      },
      "source": [
        "# countplot to check the number of clusters and number of customers in each cluster\n",
        "sns.countplot(y_clusters)"
      ],
      "execution_count": null,
      "outputs": [
        {
          "output_type": "execute_result",
          "data": {
            "text/plain": [
              "<matplotlib.axes._subplots.AxesSubplot at 0x7f0f3f7db190>"
            ]
          },
          "metadata": {},
          "execution_count": 37
        },
        {
          "output_type": "display_data",
          "data": {
            "image/png": "[encoded data removed]",
            "text/plain": [
              "<Figure size 432x288 with 1 Axes>"
            ]
          },
          "metadata": {
            "needs_background": "light"
          }
        }
      ]
    },
    {
      "cell_type": "code",
      "metadata": {
        "id": "DbRb5tBUSq1f",
        "colab": {
          "base_uri": "https://localhost:8080/",
          "height": 846
        },
        "outputId": "53c77a7a-66b8-4c43-af10-c9a5002d61ad"
      },
      "source": [
        "# 3d scatterplot using matplotlib\n",
        "\n",
        "fig = plt.figure(figsize = (15,15))\n",
        "ax = fig.add_subplot(111, projection='3d')\n",
        "ax.scatter(x[y_clusters == 0,0],x[y_clusters == 0,1],x[y_clusters == 0,2], s = 40 , color = 'blue', label = \"cluster 0\")\n",
        "ax.scatter(x[y_clusters == 1,0],x[y_clusters == 1,1],x[y_clusters == 1,2], s = 40 , color = 'orange', label = \"cluster 1\")\n",
        "ax.scatter(x[y_clusters == 2,0],x[y_clusters == 2,1],x[y_clusters == 2,2], s = 40 , color = 'green', label = \"cluster 2\")\n",
        "ax.scatter(x[y_clusters == 3,0],x[y_clusters == 3,1],x[y_clusters == 3,2], s = 40 , color = 'red', label = \"cluster 3\")\n",
        "ax.scatter(x[y_clusters == 4,0],x[y_clusters == 4,1],x[y_clusters == 4,2], s = 40 , color = 'purple', label = \"cluster 4\")\n",
        "ax.scatter(x[y_clusters == 5,0],x[y_clusters == 5,1],x[y_clusters == 5,2], s = 40 , color = 'black', label = \"cluster 5\")\n",
        "ax.set_xlabel('PC1-->')\n",
        "ax.set_ylabel('PC2-->')\n",
        "ax.set_zlabel('PC3-->')\n",
        "ax.legend()\n",
        "plt.show()"
      ],
      "execution_count": null,
      "outputs": [
        {
          "output_type": "display_data",
          "data": {
            "image/png": "[encoded data removed]",
            "text/plain": [
              "<Figure size 1080x1080 with 1 Axes>"
            ]
          },
          "metadata": {
            "needs_background": "light"
          }
        }
      ]
    },
    {
      "cell_type": "markdown",
      "metadata": {
        "id": "xWNZJM_dbfjQ"
      },
      "source": [
        "## Euclidean and Manhatton Part ##\n"
      ]
    },
    {
      "cell_type": "code",
      "metadata": {
        "id": "3hI0JEx0bk_w",
        "colab": {
          "base_uri": "https://localhost:8080/",
          "height": 320
        },
        "outputId": "5b9665ac-37f5-49c0-cead-2345d9274e3a"
      },
      "source": [
        "import pandas\n",
        "data_5 = []\n",
        "for id_cl in range(150):\n",
        "  if identified_clusters[id_cl] == 5:\n",
        "    #print(id_cl)\n",
        "    data_5.append(id_cl)\n",
        "\n",
        "\n",
        "datatousewitheucliandman = pandas.read_excel('/content/testnewtimesclae_1.xlsx')\n",
        "timerange = datatousewitheucliandman[\"amount of sleeptime \"].tolist()\n",
        "timetosleep = datatousewitheucliandman['sleeptime'].tolist()\n",
        "naptime = datatousewitheucliandman['nap-time'].tolist()\n",
        "lightning = datatousewitheucliandman['light'].tolist()\n",
        "score = datatousewitheucliandman['score'].tolist()\n",
        "\n",
        "\n",
        "for xscore in range(150):\n",
        "  if score[xscore] == \"not_fresh_at_all\":\n",
        "    score[xscore] = 0\n",
        "  elif score[xscore] == \"minimal\":\n",
        "    score[xscore] = 1\n",
        "  elif score[xscore] == \"less\":\n",
        "    score[xscore] = 2\n",
        "  elif score[xscore] == \"moderate\":\n",
        "    score[xscore] = 3\n",
        "  elif score[xscore] == \"much\":\n",
        "    score[xscore] = 4\n",
        "  elif score[xscore] == \"very much\":\n",
        "    score[xscore] = 5\n",
        "\n",
        "\n",
        "\n",
        "\n",
        "\n",
        "dataEu_5 = []\n",
        "for id_cl in range(150):\n",
        "  if identified_clusters[id_cl] == 5:\n",
        "    #print(id_cl)\n",
        "    dataEu_5.append(id_cl)\n",
        "\n",
        "dataEu_4 = []\n",
        "for id_cl in range(150):\n",
        "  if identified_clusters[id_cl] == 4:\n",
        "    #print(id_cl)\n",
        "    dataEu_4.append(id_cl)\n",
        "\n",
        "dataEu_3 = []\n",
        "for id_cl in range(150):\n",
        "  if identified_clusters[id_cl] == 3:\n",
        "    #print(id_cl)\n",
        "    dataEu_3.append(id_cl)\n",
        "\n",
        "dataEu_2 = []\n",
        "for id_cl in range(150):\n",
        "  if identified_clusters[id_cl] == 2:\n",
        "    #print(id_cl)\n",
        "    dataEu_2.append(id_cl)\n",
        "\n",
        "dataEu_1 = []\n",
        "for id_cl in range(150):\n",
        "  if identified_clusters[id_cl] == 1:\n",
        "    #print(id_cl)\n",
        "    dataEu_1.append(id_cl)\n",
        "\n",
        "dataEu_0 = []\n",
        "for id_cl in range(150):\n",
        "  if identified_clusters[id_cl] == 0:\n",
        "    #print(id_cl)\n",
        "    dataEu_0.append(id_cl)\n",
        "\n",
        "\n",
        "\n",
        "sumtimerange = 0\n",
        "sumtimetosleep = 0\n",
        "sumnaptime = 0\n",
        "sumlightning = 0\n",
        "\n",
        "sumtimerange5 = 0\n",
        "sumtimetosleep5 = 0\n",
        "sumnaptime5 = 0\n",
        "sumlightning5 = 0\n",
        "\n",
        "sumtimerange4 = 0\n",
        "sumtimetosleep4 = 0\n",
        "sumnaptime4 = 0\n",
        "sumlightning4 = 0\n",
        "\n",
        "sumtimerange3 = 0\n",
        "sumtimetosleep3 = 0\n",
        "sumnaptime3 = 0\n",
        "sumlightning3 = 0\n",
        "\n",
        "sumtimerange2 = 0\n",
        "sumtimetosleep2 = 0\n",
        "sumnaptime2 = 0\n",
        "sumlightning2 = 0\n",
        "\n",
        "sumtimerange1 = 0\n",
        "sumtimetosleep1 = 0\n",
        "sumnaptime1 = 0\n",
        "sumlightning1 = 0\n",
        "\n",
        "sumtimerange0 = 0\n",
        "sumtimetosleep0 = 0\n",
        "sumnaptime0 = 0\n",
        "sumlightning0 = 0\n",
        "\n",
        "for elementofdata in data_5:\n",
        "  sumtimerange += timerange[elementofdata]\n",
        "  sumtimetosleep += timetosleep[elementofdata]\n",
        "  sumnaptime += naptime[elementofdata]\n",
        "  sumlightning += lightning[elementofdata]\n",
        "  #print(elementofdata ,timerange[elementofdata], timetosleep[elementofdata], naptime[elementofdata], lightning[elementofdata])\n",
        "meantimerange = sumtimerange / len(data_5)\n",
        "meantimetosleep = sumtimetosleep / len(data_5)\n",
        "meannaptime = sumnaptime / len(data_5)\n",
        "meanlightning = sumlightning / len(data_5)\n",
        "\n",
        "for elementofdata in dataEu_0:\n",
        "  sumtimerange0 += timerange[elementofdata]\n",
        "  sumtimetosleep0 += timetosleep[elementofdata]\n",
        "  sumnaptime0 += naptime[elementofdata]\n",
        "  sumlightning0 += lightning[elementofdata]\n",
        "  #print(elementofdata ,timerange[elementofdata], timetosleep[elementofdata], naptime[elementofdata], lightning[elementofdata])\n",
        "meantimerange0 = sumtimerange / len(dataEu_0)\n",
        "meantimetosleep0 = sumtimetosleep / len(dataEu_0)\n",
        "meannaptime0 = sumnaptime / len(dataEu_0)\n",
        "meanlightning0 = sumlightning / len(dataEu_0)\n",
        "\n",
        "for elementofdata in dataEu_5:\n",
        "  sumtimerange5 += timerange[elementofdata]\n",
        "  sumtimetosleep5 += timetosleep[elementofdata]\n",
        "  sumnaptime5 += naptime[elementofdata]\n",
        "  sumlightning5 += lightning[elementofdata]\n",
        "  #print(elementofdata ,timerange[elementofdata], timetosleep[elementofdata], naptime[elementofdata], lightning[elementofdata])\n",
        "try:\n",
        "  meantimerange5 = sumtimerange / len(dataEu_5)\n",
        "  meantimetosleep5 = sumtimetosleep / len(dataEu_5)\n",
        "  meannaptime5 = sumnaptime / len(dataEu_5)\n",
        "  meanlightning5 = sumlightning / len(dataEu_5)\n",
        "except:\n",
        "  meantimerange5 = 0\n",
        "  meantimetosleep5 = 0\n",
        "  meannaptime5 = 0\n",
        "  meanlightning5 = 0\n",
        "  print(\"No Data score 5\")\n",
        "\n",
        "for elementofdata in dataEu_4:\n",
        "  sumtimerange4 += timerange[elementofdata]\n",
        "  sumtimetosleep4 += timetosleep[elementofdata]\n",
        "  sumnaptime4 += naptime[elementofdata]\n",
        "  sumlightning4 += lightning[elementofdata]\n",
        "  #print(elementofdata ,timerange[elementofdata], timetosleep[elementofdata], naptime[elementofdata], lightning[elementofdata])\n",
        "meantimerange4 = sumtimerange / len(dataEu_4)\n",
        "meantimetosleep4 = sumtimetosleep / len(dataEu_4)\n",
        "meannaptime4 = sumnaptime / len(dataEu_4)\n",
        "meanlightning4 = sumlightning / len(dataEu_4)\n",
        "\n",
        "for elementofdata in dataEu_3:\n",
        "  sumtimerange3 += timerange[elementofdata]\n",
        "  sumtimetosleep3 += timetosleep[elementofdata]\n",
        "  sumnaptime3 += naptime[elementofdata]\n",
        "  sumlightning3 += lightning[elementofdata]\n",
        "  #print(elementofdata ,timerange[elementofdata], timetosleep[elementofdata], naptime[elementofdata], lightning[elementofdata])\n",
        "meantimerange3 = sumtimerange / len(dataEu_3)\n",
        "meantimetosleep3 = sumtimetosleep / len(dataEu_3)\n",
        "meannaptime3 = sumnaptime / len(dataEu_3)\n",
        "meanlightning3 = sumlightning / len(dataEu_3)\n",
        "\n",
        "for elementofdata in dataEu_2:\n",
        "  sumtimerange2 += timerange[elementofdata]\n",
        "  sumtimetosleep2 += timetosleep[elementofdata]\n",
        "  sumnaptime2 += naptime[elementofdata]\n",
        "  sumlightning2 += lightning[elementofdata]\n",
        "  #print(elementofdata ,timerange[elementofdata], timetosleep[elementofdata], naptime[elementofdata], lightning[elementofdata])\n",
        "meantimerange2 = sumtimerange / len(dataEu_2)\n",
        "meantimetosleep2 = sumtimetosleep / len(dataEu_2)\n",
        "meannaptime2 = sumnaptime / len(dataEu_2)\n",
        "meanlightning2 = sumlightning / len(dataEu_2)\n",
        "\n",
        "for elementofdata in dataEu_1:\n",
        "  sumtimerange1 += timerange[elementofdata]\n",
        "  sumtimetosleep1 += timetosleep[elementofdata]\n",
        "  sumnaptime1 += naptime[elementofdata]\n",
        "  sumlightning1 += lightning[elementofdata]\n",
        "  #print(elementofdata ,timerange[elementofdata], timetosleep[elementofdata], naptime[elementofdata], lightning[elementofdata])\n",
        "meantimerange1 = sumtimerange / len(dataEu_1)\n",
        "meantimetosleep1 = sumtimetosleep / len(dataEu_1)\n",
        "meannaptime1 = sumnaptime / len(dataEu_1)\n",
        "meanlightning1 = sumlightning / len(dataEu_1)\n",
        "\n",
        "def euclideanwithmean(x):\n",
        "  distancewithmean = math.sqrt((x[0] - meantimerange) ** 2 + (x[1] - meantimetosleep) ** 2 + (x[2] - meannaptime) ** 2 + (x[3] - meanlightning) ** 2)\n",
        "  return distancewithmean\n",
        "\n",
        "def euclideanwithmean0(x):\n",
        "  distancewithmean = math.sqrt((x[0] - meantimerange0) ** 2 + (x[1] - meantimetosleep0) ** 2 + (x[2] - meannaptime0) ** 2 + (x[3] - meanlightning0) ** 2)\n",
        "  return distancewithmean\n",
        "\n",
        "def euclideanwithmean1(x):\n",
        "  distancewithmean = math.sqrt((x[0] - meantimerange1) ** 2 + (x[1] - meantimetosleep1) ** 2 + (x[2] - meannaptime1) ** 2 + (x[3] - meanlightning1) ** 2)\n",
        "  return distancewithmean\n",
        "\n",
        "def euclideanwithmean2(x):\n",
        "  distancewithmean = math.sqrt((x[0] - meantimerange2) ** 2 + (x[1] - meantimetosleep2) ** 2 + (x[2] - meannaptime2) ** 2 + (x[3] - meanlightning2) ** 2)\n",
        "  return distancewithmean\n",
        "\n",
        "def euclideanwithmean3(x):\n",
        "  distancewithmean = math.sqrt((x[0] - meantimerange3) ** 2 + (x[1] - meantimetosleep3) ** 2 + (x[2] - meannaptime3) ** 2 + (x[3] - meanlightning3) ** 2)\n",
        "  return distancewithmean\n",
        "\n",
        "def euclideanwithmean4(x):\n",
        "  distancewithmean = math.sqrt((x[0] - meantimerange4) ** 2 + (x[1] - meantimetosleep4) ** 2 + (x[2] - meannaptime4) ** 2 + (x[3] - meanlightning4) ** 2)\n",
        "  return distancewithmean\n",
        "\n",
        "def euclideanwithmean5(x):\n",
        "  distancewithmean = math.sqrt((x[0] - meantimerange5) ** 2 + (x[1] - meantimetosleep5) ** 2 + (x[2] - meannaptime5) ** 2 + (x[3] - meanlightning5) ** 2)\n",
        "  return distancewithmean\n",
        "#example input\n",
        "ex_input = []\n",
        "ex_input.append(timerange[150])\n",
        "ex_input.append(timetosleep[150])\n",
        "ex_input.append(naptime[150])\n",
        "ex_input.append(lightning[150])\n",
        "score[150] = identified_clusters[150]\n",
        "\n",
        "print(\"Predict Score :\", identified_clusters[150])\n",
        "print(\"Simurality\", euclideanwithmean(ex_input))\n",
        "eucliscore = []\n",
        "eucliscore.append(euclideanwithmean0(ex_input))\n",
        "eucliscore.append(euclideanwithmean1(ex_input))\n",
        "eucliscore.append(euclideanwithmean2(ex_input))\n",
        "eucliscore.append(euclideanwithmean3(ex_input))\n",
        "eucliscore.append(euclideanwithmean4(ex_input))\n",
        "eucliscore.append(euclideanwithmean5(ex_input))\n",
        "pseudoAxis = []\n",
        "for x in range(151):\n",
        "  pseudoAxis.append(x)\n",
        "plt.scatter(pseudoAxis, identified_clusters, s = 5)\n",
        "plt.scatter(pseudoAxis, score, s = 5)"
      ],
      "execution_count": null,
      "outputs": [
        {
          "output_type": "stream",
          "name": "stdout",
          "text": [
            "Predict Score : 1\n",
            "Simurality 3.5125418344133856\n"
          ]
        },
        {
          "output_type": "execute_result",
          "data": {
            "text/plain": [
              "<matplotlib.collections.PathCollection at 0x7f0f3f60b190>"
            ]
          },
          "metadata": {},
          "execution_count": 39
        },
        {
          "output_type": "display_data",
          "data": {
            "image/png": "[encoded data removed]",
            "text/plain": [
              "<Figure size 432x288 with 1 Axes>"
            ]
          },
          "metadata": {
            "needs_background": "light"
          }
        }
      ]
    },
    {
      "cell_type": "markdown",
      "metadata": {
        "id": "DJLpXLatXyuF"
      },
      "source": [
        "Manhattan"
      ]
    },
    {
      "cell_type": "code",
      "metadata": {
        "id": "BOSGbGyGYWLZ"
      },
      "source": [
        "\n",
        "\n",
        "def manhattanmean_timerange(x):\n",
        "  distancewithmean = (x[0] - meantimerange)\n",
        "  return distancewithmean\n",
        "\n",
        "def manhattanmean_naptime(x):\n",
        "  distancewithmean = (x[2] - meannaptime)\n",
        "  return distancewithmean\n",
        "\n",
        "def manhattanmean_lightning(x):\n",
        "  distancewithmean = (x[3] - meanlightning)\n",
        "  return distancewithmean\n",
        "\n",
        "def manhattanmean_timetosleep(x):\n",
        "  distancewithmean = (x[1] - meantimetosleep)\n",
        "  return distancewithmean\n",
        "\n",
        "def manhattanmean_timetosleep_lightning(x):\n",
        "  distancewithmean = (x[1] - meantimetosleep) + (x[3] - meanlightning)\n",
        "  return distancewithmean\n",
        "\n",
        "def manhattanmean_naptime_lightning(x):\n",
        "  distancewithmean = (x[2] - meannaptime) + (x[3] - meanlightning)\n",
        "  return distancewithmean\n",
        "\n",
        "def manhattanwithmean(x):\n",
        "  distancewithmean = (x[0] - meantimerange) + (x[1] - meantimetosleep) + (x[2] - meannaptime) + (x[3] - meanlightning)\n",
        "  return distancewithmean\n",
        "\n"
      ],
      "execution_count": null,
      "outputs": []
    },
    {
      "cell_type": "code",
      "metadata": {
        "id": "uasvnPad_R-E",
        "colab": {
          "base_uri": "https://localhost:8080/"
        },
        "outputId": "8f27f1ad-22fa-4260-84cb-4b386582ec07"
      },
      "source": [
        "print(\"k-mean predicted = \",identified_clusters[150])\n",
        "print(\"=======================================================\")\n",
        "print(\"Predict Score :\", identified_clusters[150])\n",
        "print(\"Simurality\", euclideanwithmean(ex_input))\n",
        "#print(manhattanmean_timerange(ex_input), manhattanmean_timetosleep(ex_input), manhattanmean_naptime(ex_input), manhattanmean_lightning(ex_input))\n",
        "if manhattanmean_timerange(ex_input) < 0:\n",
        "  print(\"Your sleep duration is underate\")\n",
        "else:\n",
        "  print(\"Your sleep duration is appropriate\")\n",
        "if manhattanmean_timetosleep(ex_input) < 0:\n",
        "  print(\"Your sleep time is too late\")\n",
        "else:\n",
        "  print(\"Your sleep time is appropriate\")"
      ],
      "execution_count": null,
      "outputs": [
        {
          "output_type": "stream",
          "name": "stdout",
          "text": [
            "k-mean predicted =  1\n",
            "=======================================================\n",
            "Predict Score : 1\n",
            "Simurality 3.5125418344133856\n",
            "Your sleep duration is underate\n",
            "Your sleep time is too late\n"
          ]
        }
      ]
    }
  ]
}